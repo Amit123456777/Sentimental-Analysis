{
 "cells": [
  {
   "cell_type": "markdown",
   "id": "76131238-db97-419e-b6ef-fa3c0d82d5dd",
   "metadata": {},
   "source": [
    "# Sentimental Analysis"
   ]
  },
  {
   "cell_type": "code",
   "execution_count": 5,
   "id": "9d1820a7-adb2-4005-97c2-fa97174ed6b2",
   "metadata": {},
   "outputs": [
    {
     "name": "stdout",
     "output_type": "stream",
     "text": [
      "Sentiment Analysis Results:\n",
      "\n",
      "sentiment\n",
      "positive    90.0\n",
      "negative    10.0\n",
      "Name: proportion, dtype: float64\n",
      "\n",
      "Detailed Results:\n",
      "\n",
      "                                            comments sentiment\n",
      "0  I love manga, but manhwa has some amazing art ...  positive\n",
      "1  Manhwa feels more innovative compared to manga...  positive\n",
      "2  I think manga stories are way better than manh...  positive\n",
      "3  Manhwa is just a cheap copy of manga, doesn't ...  positive\n",
      "4  Both are great in their own ways, but I prefer...  positive\n",
      "5  Manga is too repetitive nowadays, manhwa bring...  positive\n",
      "6  Manga and manhwa are both enjoyable, but some ...  positive\n",
      "7  I can't stand manhwa; the pacing is awful comp...  negative\n",
      "8  Manga will always be superior, the storytellin...  positive\n",
      "9  Manhwa deserves more recognition, it's so unde...  positive\n"
     ]
    }
   ],
   "source": [
    "# Import necessary libraries\n",
    "from textblob import TextBlob\n",
    "import pandas as pd\n",
    "\n",
    "# Step 1: Create a small dataset of user comments on \"The Difference Between Manga and Manhwa\"\n",
    "data = {\n",
    "    'comments': [\n",
    "        \"I love manga, but manhwa has some amazing art styles!\",\n",
    "        \"Manhwa feels more innovative compared to manga, I really like it.\",\n",
    "        \"I think manga stories are way better than manhwa, it's more engaging.\",\n",
    "        \"Manhwa is just a cheap copy of manga, doesn't feel original at all.\",\n",
    "        \"Both are great in their own ways, but I prefer the long history of manga.\",\n",
    "        \"Manga is too repetitive nowadays, manhwa brings fresh ideas to the table.\",\n",
    "        \"Manga and manhwa are both enjoyable, but some manhwa stories are too slow.\",\n",
    "        \"I can't stand manhwa; the pacing is awful compared to manga.\",\n",
    "        \"Manga will always be superior, the storytelling is on another level.\",\n",
    "        \"Manhwa deserves more recognition, it's so underrated!\"\n",
    "    ]\n",
    "}\n",
    "\n",
    "# Convert the data dictionary into a DataFrame\n",
    "df = pd.DataFrame(data)\n",
    "\n",
    "# Step 2: Perform sentiment analysis using TextBlob\n",
    "def get_sentiment(comment):\n",
    "    analysis = TextBlob(comment)\n",
    "    if analysis.sentiment.polarity > 0:\n",
    "        return 'positive'\n",
    "    elif analysis.sentiment.polarity < 0:\n",
    "        return 'negative'\n",
    "    else:\n",
    "        return 'neutral'\n",
    "\n",
    "# Apply sentiment analysis to the comments\n",
    "df['sentiment'] = df['comments'].apply(get_sentiment)\n",
    "\n",
    "# Step 3: Calculate the percentage of positive, negative, and neutral comments\n",
    "sentiment_counts = df['sentiment'].value_counts(normalize=True) * 100\n",
    "\n",
    "# Display the sentiment analysis results\n",
    "print(\"Sentiment Analysis Results:\\n\")\n",
    "print(sentiment_counts)\n",
    "\n",
    "# Show the DataFrame with comments and their corresponding sentiment\n",
    "print(\"\\nDetailed Results:\\n\")\n",
    "print(df)\n"
   ]
  },
  {
   "cell_type": "code",
   "execution_count": null,
   "id": "4d9351a9-3a10-428e-ba0c-aef3147718ba",
   "metadata": {},
   "outputs": [],
   "source": []
  }
 ],
 "metadata": {
  "kernelspec": {
   "display_name": "Python 3 (ipykernel)",
   "language": "python",
   "name": "python3"
  },
  "language_info": {
   "codemirror_mode": {
    "name": "ipython",
    "version": 3
   },
   "file_extension": ".py",
   "mimetype": "text/x-python",
   "name": "python",
   "nbconvert_exporter": "python",
   "pygments_lexer": "ipython3",
   "version": "3.11.7"
  }
 },
 "nbformat": 4,
 "nbformat_minor": 5
}
